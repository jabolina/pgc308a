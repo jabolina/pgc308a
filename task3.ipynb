{
 "cells": [
  {
   "cell_type": "markdown",
   "metadata": {},
   "source": [
    "# Parte 3\n",
    "\n",
    "Esse parte do relatorio foca na criacao de um modelo de classificacao, onde sera definidas duas classes para o nivel de servico da plataforma de video. Serao definidas 2 classes, ou seja, um classificador binario, sendo uma classe de `conforms` quando a taxa de video $\\geq 18$ e `violates` caso contrario."
   ]
  },
  {
   "cell_type": "markdown",
   "metadata": {},
   "source": [
    "1. Model Training - use `Logistic Regression` to train a classifier C with the training set. Provide the coefficients $(\\theta_0, ..., \\theta_9)$ of your model C. ($\\theta_0$ is the offset.)\n",
    "\n",
    "2. Accuracy of the Classifiers C - Compute the classification error (ERR) on the test set for C. For this, you first compute the confusion matrix, which includes the four numbers True Positives (TP), True Negatives (TN), False Positives (FN), and False Negatives (FN). We define the classification error as ERR = $1 - \\frac{TP+TN}{m}$, whereby $m$ is the number of observations in the test set. A true positive is observation that is correctly classified by the classifier as conforming to the SLA; a true negative is an observation that is correctly classified by the classifier as violating the SLA.\n",
    "\n",
    "3. As a baseline for C, use a naı̈ve method which relies on Y values only, as follows. For each $x \\in X$, the naı̈ve classifier predicts a value `True` with probability $p$ and `False` with probability $1 − p$. $p$ is the fraction of $Y$ values that conform with the SLA. Compute $p$ over the training set and the classification error for the naı̈ve classifier over the test set.\n",
    "\n",
    "4. Build a new classifier by extending extend the linear regression function developed in `Task II` with a check on the output, i.e., the Video Frame Rate. If the frame rate for a given X is above the SLA threshold, then the Y label of the classifier is set to conformance, otherwise to violation. Compute the new classifier over the training set and the classification error for this new classifier over the test set.\n",
    "\n",
    "5. Formulate your observations and conclusions based on the above work."
   ]
  },
  {
   "cell_type": "code",
   "execution_count": 1,
   "metadata": {},
   "outputs": [
    {
     "name": "stdout",
     "output_type": "stream",
     "text": [
      "Matrix de confusao:\n",
      " [[ 13  83]\n",
      " [ 14 970]]\n"
     ]
    }
   ],
   "source": [
    "import pandas as pd\n",
    "from sklearn import linear_model\n",
    "import matplotlib.pyplot as pp\n",
    "from sklearn.metrics import confusion_matrix\n",
    "\n",
    "x_data = pd.read_csv('./data/X.csv')\n",
    "y_output = pd.read_csv('./data/Y.csv')\n",
    "\n",
    "# Use 70% data for training and 30% for testing.\n",
    "up_to = 2520\n",
    "x_train, x_test, y_train_continuous, y_test_continuous = \\\n",
    "    x_data[:up_to], x_data[up_to:], y_output[:up_to], y_output[up_to:]\n",
    "\n",
    "def segment_classes(fps):\n",
    "    return [1 if frame >= 18 else 0 for frame in fps]\n",
    "\n",
    "y_train = segment_classes(y_train_continuous['DispFrames'])\n",
    "y_test = segment_classes(y_test_continuous['DispFrames'])\n",
    "\n",
    "model = linear_model.LogisticRegression()\n",
    "model.fit(x_train, y_train)\n",
    "\n",
    "predicted = model.predict(x_test)\n",
    "metrics = confusion_matrix(y_test, predicted)\n",
    "print(\"Matrix de confusao:\\n\", metrics)"
   ]
  },
  {
   "cell_type": "code",
   "execution_count": 5,
   "metadata": {},
   "outputs": [
    {
     "name": "stdout",
     "output_type": "stream",
     "text": [
      "Model ERR: 0.08981481481481479\n"
     ]
    }
   ],
   "source": [
    "def compute_err(matrix):\n",
    "    trues, falses = matrix\n",
    "    return 1 - ((trues[0] + falses[1]) / len(y_test))\n",
    "\n",
    "print(\"Model ERR:\", compute_err(metrics))"
   ]
  },
  {
   "cell_type": "code",
   "execution_count": 3,
   "metadata": {},
   "outputs": [
    {
     "data": {
      "text/html": [
       "<div>\n",
       "<style scoped>\n",
       "    .dataframe tbody tr th:only-of-type {\n",
       "        vertical-align: middle;\n",
       "    }\n",
       "\n",
       "    .dataframe tbody tr th {\n",
       "        vertical-align: top;\n",
       "    }\n",
       "\n",
       "    .dataframe thead th {\n",
       "        text-align: right;\n",
       "    }\n",
       "</style>\n",
       "<table border=\"1\" class=\"dataframe\">\n",
       "  <thead>\n",
       "    <tr style=\"text-align: right;\">\n",
       "      <th></th>\n",
       "      <th>1 - p</th>\n",
       "      <th>p</th>\n",
       "    </tr>\n",
       "  </thead>\n",
       "  <tbody>\n",
       "    <tr>\n",
       "      <th>0</th>\n",
       "      <td>0.001676</td>\n",
       "      <td>0.998324</td>\n",
       "    </tr>\n",
       "    <tr>\n",
       "      <th>1</th>\n",
       "      <td>0.002052</td>\n",
       "      <td>0.997948</td>\n",
       "    </tr>\n",
       "    <tr>\n",
       "      <th>2</th>\n",
       "      <td>0.001890</td>\n",
       "      <td>0.998110</td>\n",
       "    </tr>\n",
       "    <tr>\n",
       "      <th>3</th>\n",
       "      <td>0.002701</td>\n",
       "      <td>0.997299</td>\n",
       "    </tr>\n",
       "    <tr>\n",
       "      <th>4</th>\n",
       "      <td>0.000972</td>\n",
       "      <td>0.999028</td>\n",
       "    </tr>\n",
       "    <tr>\n",
       "      <th>...</th>\n",
       "      <td>...</td>\n",
       "      <td>...</td>\n",
       "    </tr>\n",
       "    <tr>\n",
       "      <th>1075</th>\n",
       "      <td>0.383426</td>\n",
       "      <td>0.616574</td>\n",
       "    </tr>\n",
       "    <tr>\n",
       "      <th>1076</th>\n",
       "      <td>0.266676</td>\n",
       "      <td>0.733324</td>\n",
       "    </tr>\n",
       "    <tr>\n",
       "      <th>1077</th>\n",
       "      <td>0.299816</td>\n",
       "      <td>0.700184</td>\n",
       "    </tr>\n",
       "    <tr>\n",
       "      <th>1078</th>\n",
       "      <td>0.241755</td>\n",
       "      <td>0.758245</td>\n",
       "    </tr>\n",
       "    <tr>\n",
       "      <th>1079</th>\n",
       "      <td>0.269774</td>\n",
       "      <td>0.730226</td>\n",
       "    </tr>\n",
       "  </tbody>\n",
       "</table>\n",
       "<p>1080 rows × 2 columns</p>\n",
       "</div>"
      ],
      "text/plain": [
       "         1 - p         p\n",
       "0     0.001676  0.998324\n",
       "1     0.002052  0.997948\n",
       "2     0.001890  0.998110\n",
       "3     0.002701  0.997299\n",
       "4     0.000972  0.999028\n",
       "...        ...       ...\n",
       "1075  0.383426  0.616574\n",
       "1076  0.266676  0.733324\n",
       "1077  0.299816  0.700184\n",
       "1078  0.241755  0.758245\n",
       "1079  0.269774  0.730226\n",
       "\n",
       "[1080 rows x 2 columns]"
      ]
     },
     "execution_count": 3,
     "metadata": {},
     "output_type": "execute_result"
    }
   ],
   "source": [
    "predicted_prob = model.predict_proba(x_test)\n",
    "pd.DataFrame(predicted_prob, columns=[\"1 - p\", \"p\"])"
   ]
  },
  {
   "cell_type": "code",
   "execution_count": 8,
   "metadata": {},
   "outputs": [
    {
     "name": "stdout",
     "output_type": "stream",
     "text": [
      "Regressao transformada ERR: 0.0888888888888889\n"
     ]
    }
   ],
   "source": [
    "# Now we build a Linear Regression model and train it on the same data.\n",
    "regression_model = linear_model.LinearRegression()\n",
    "regression_model.fit(x_train, y_train_continuous['DispFrames'])\n",
    "\n",
    "# Predict some values.\n",
    "continuous_pred = regression_model.predict(x_test)\n",
    "normalized_pred = segment_classes(continuous_pred)\n",
    "\n",
    "calculated_err = compute_err(confusion_matrix(y_test, normalized_pred))\n",
    "print(\"Regressao transformada ERR:\", calculated_err)"
   ]
  },
  {
   "cell_type": "markdown",
   "metadata": {},
   "source": [
    "Diferente do modelo de regressao, esse modelo tenta classificar entre as classes. Pode ser visto que esse modelo tambem age de uma maneira moderada em face de oscilacoes na taxa de quadros, podendo ser visto pela matrix de confusao e os valores de falsos positivos.\n",
    "\n",
    "O modelo de classificacao criado utilizando o modelo de regressao mostrou um resultado semelhante ao modelo de classificacao criado originalmente. Ambos modelos possuiram o `ERR` com valor de `0.089`, mas esse resultado semelhante pode ter sido pelo fato de existir somente 2 classes, se existissem mais classes de SLA talvez esse valor nao seria tao semelhante e o modelo utilizando regressao alcancaria um resultado pior que a classificacao."
   ]
  }
 ],
 "metadata": {
  "kernelspec": {
   "display_name": "Python 3",
   "language": "python",
   "name": "python3"
  },
  "language_info": {
   "codemirror_mode": {
    "name": "ipython",
    "version": 3
   },
   "file_extension": ".py",
   "mimetype": "text/x-python",
   "name": "python",
   "nbconvert_exporter": "python",
   "pygments_lexer": "ipython3",
   "version": "3.8.5"
  }
 },
 "nbformat": 4,
 "nbformat_minor": 4
}
