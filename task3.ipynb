{
 "cells": [
  {
   "cell_type": "markdown",
   "metadata": {},
   "source": [
    "# Parte 3\n",
    "\n",
    "Esse parte do relatorio foca na criacao de um modelo de classificacao, onde sera definidas duas classes para o nivel de servico da plataforma de video. Serao definidas 2 classes, ou seja, um classificador binario, sendo uma classe de `conforms` quando a taxa de video $\\geq 18$ e `violates` caso contrario."
   ]
  },
  {
   "cell_type": "markdown",
   "metadata": {},
   "source": [
    "1. Model Training - use `Logistic Regression` to train a classifier C with the training set. Provide the coefficients $(\\theta_0, ..., \\theta_9)$ of your model C. ($\\theta_0$ is the offset.)\n",
    "\n",
    "2. Accuracy of the Classifiers C - Compute the classification error (ERR) on the test set for C. For this, you first compute the confusion matrix, which includes the four numbers True Positives (TP), True Negatives (TN), False Positives (FN), and False Negatives (FN). We define the classification error as ERR = $1 - \\frac{TP+TN}{m}$, whereby $m$ is the number of observations in the test set. A true positive is observation that is correctly classified by the classifier as conforming to the SLA; a true negative is an observation that is correctly classified by the classifier as violating the SLA.\n",
    "\n",
    "3. As a baseline for C, use a naı̈ve method which relies on Y values only, as follows. For each $x \\in X$, the naı̈ve classifier predicts a value `True` with probability $p$ and `False` with probability $1 - p$. $p$ is the fraction of $Y$ values that conform with the SLA. Compute $p$ over the training set and the classification error for the naı̈ve classifier over the test set.\n",
    "\n",
    "4. Build a new classifier by extending extend the linear regression function developed in `Task II` with a check on the output, i.e., the Video Frame Rate. If the frame rate for a given X is above the SLA threshold, then the Y label of the classifier is set to conformance, otherwise to violation. Compute the new classifier over the training set and the classification error for this new classifier over the test set.\n",
    "\n",
    "5. Formulate your observations and conclusions based on the above work."
   ]
  },
  {
   "cell_type": "code",
   "execution_count": 61,
   "metadata": {},
   "outputs": [
    {
     "name": "stdout",
     "output_type": "stream",
     "text": [
      "Matrix de confusao:\n",
      " [[ 13  83]\n",
      " [ 14 970]]\n",
      "Coefficients: \n",
      " [[ 9.36189074e-09  5.02638735e-08  7.22547609e-08 -2.91942920e-08\n",
      "  -1.66619270e-04 -2.89499216e-06  1.63901716e-05 -6.07563327e-07\n",
      "  -2.30895025e-07 -4.68362731e-05]]\n"
     ]
    }
   ],
   "source": [
    "import pandas as pd\n",
    "from sklearn import linear_model\n",
    "import matplotlib.pyplot as pp\n",
    "from sklearn.metrics import confusion_matrix\n",
    "import numpy as np\n",
    "\n",
    "x_data = pd.read_csv('./data/X.csv')\n",
    "y_output = pd.read_csv('./data/Y.csv')\n",
    "\n",
    "# Use 70% data for training and 30% for testing.\n",
    "up_to = 2520\n",
    "x_train, x_test, y_train_continuous, y_test_continuous = \\\n",
    "    x_data[:up_to], x_data[up_to:], y_output[:up_to], y_output[up_to:]\n",
    "\n",
    "def segment_classes(fps):\n",
    "    return [1 if frame >= 18 else 0 for frame in fps]\n",
    "\n",
    "y_train = segment_classes(y_train_continuous['DispFrames'])\n",
    "y_test = segment_classes(y_test_continuous['DispFrames'])\n",
    "\n",
    "model = linear_model.LogisticRegression()\n",
    "model.fit(x_train, y_train)\n",
    "\n",
    "predicted = model.predict(x_test)\n",
    "metrics = confusion_matrix(y_test, predicted)\n",
    "print(\"Matrix de confusao:\\n\", metrics)\n",
    "print(\"Coefficients: \\n\", model.coef_)"
   ]
  },
  {
   "cell_type": "code",
   "execution_count": 62,
   "metadata": {},
   "outputs": [
    {
     "name": "stdout",
     "output_type": "stream",
     "text": [
      "Model ERR: 0.08981481481481479\n"
     ]
    }
   ],
   "source": [
    "def compute_err(matrix):\n",
    "    trues, falses = matrix\n",
    "    return 1 - ((trues[0] + falses[1]) / len(y_test))\n",
    "\n",
    "print(\"Model ERR:\", compute_err(metrics))"
   ]
  },
  {
   "cell_type": "code",
   "execution_count": 63,
   "metadata": {},
   "outputs": [
    {
     "name": "stdout",
     "output_type": "stream",
     "text": [
      "Naive method - Probability to be True:\n",
      "0.5163888888888889\n",
      "Naive method - Probability to be False:\n",
      "0.4836111111111111\n",
      "\n",
      "Naive method results:\n",
      "[0, 0, 0, 1, 0, 1, 0, 1, 0, 1, 0, 1, 1, 0, 1, 1, 1, 1, 1, 1, 0, 0, 0, 0, 0, 1, 1, 1, 0, 1, 1, 1, 0, 1, 1, 0, 1, 1, 0, 0, 0, 0, 0, 1, 1, 1, 1, 1, 1, 1, 1, 1, 1, 0, 0, 1, 0, 1, 1, 1, 1, 0, 1, 0, 0, 0, 1, 0, 0, 1, 1, 0, 1, 0, 0, 0, 0, 1, 1, 1, 0, 0, 0, 0, 0, 0, 1, 1, 1, 0, 1, 0, 0, 1, 0, 1, 1, 0, 1, 1, 1, 0, 0, 1, 1, 1, 0, 0, 0, 0, 0, 1, 1, 1, 1, 1, 1, 1, 1, 1, 1, 0, 1, 1, 0, 0, 1, 1, 0, 1, 1, 1, 0, 0, 0, 1, 0, 0, 1, 0, 1, 1, 1, 0, 0, 0, 0, 1, 1, 1, 1, 0, 0, 1, 0, 1, 1, 1, 1, 1, 1, 0, 0, 1, 0, 0, 0, 0, 0, 1, 1, 0, 1, 0, 0, 1, 1, 1, 1, 1, 1, 1, 1, 1, 1, 1, 0, 0, 0, 0, 0, 0, 0, 1, 0, 0, 1, 0, 0, 1, 1, 0, 1, 0, 0, 1, 1, 0, 1, 1, 1, 0, 0, 1, 0, 0, 0, 0, 1, 0, 1, 0, 1, 1, 1, 0, 0, 1, 0, 1, 1, 1, 1, 0, 1, 0, 0, 0, 0, 0, 1, 1, 1, 0, 1, 1, 0, 0, 1, 0, 1, 1, 1, 0, 0, 1, 1, 0, 0, 0, 0, 1, 1, 0, 0, 1, 0, 0, 0, 0, 1, 0, 1, 0, 1, 1, 0, 1, 1, 0, 1, 0, 1, 1, 1, 1, 0, 1, 1, 0, 0, 1, 0, 1, 0, 0, 1, 1, 1, 0, 0, 1, 0, 0, 0, 0, 1, 1, 0, 1, 1, 1, 0, 0, 0, 0, 1, 1, 1, 1, 0, 0, 1, 1, 0, 0, 0, 1, 0, 0, 0, 1, 1, 1, 0, 1, 1, 0, 0, 1, 1, 0, 0, 1, 0, 0, 1, 1, 1, 1, 1, 0, 1, 1, 0, 1, 0, 0, 0, 0, 0, 1, 0, 1, 0, 1, 1, 0, 1, 0, 1, 1, 1, 1, 0, 1, 0, 0, 0, 1, 1, 0, 1, 0, 1, 0, 1, 0, 1, 0, 0, 1, 0, 0, 1, 0, 1, 0, 1, 0, 0, 0, 1, 0, 1, 1, 1, 0, 1, 0, 1, 1, 1, 1, 0, 1, 0, 0, 0, 0, 0, 0, 0, 0, 1, 1, 0, 0, 1, 1, 1, 0, 0, 1, 0, 1, 0, 1, 1, 1, 1, 0, 1, 1, 0, 1, 0, 0, 0, 0, 0, 1, 1, 1, 1, 0, 1, 1, 1, 1, 1, 0, 0, 1, 1, 0, 1, 0, 0, 1, 1, 1, 0, 0, 0, 1, 1, 1, 1, 1, 0, 1, 1, 1, 1, 0, 1, 0, 1, 1, 0, 0, 0, 0, 1, 0, 1, 1, 0, 0, 0, 1, 1, 1, 0, 0, 0, 1, 1, 1, 0, 1, 1, 1, 1, 1, 0, 1, 1, 1, 1, 1, 1, 0, 1, 1, 1, 1, 0, 0, 0, 1, 1, 1, 1, 0, 0, 0, 0, 0, 1, 1, 1, 0, 0, 0, 1, 0, 0, 0, 1, 0, 1, 1, 0, 1, 0, 0, 0, 1, 1, 0, 1, 1, 0, 1, 1, 1, 1, 1, 0, 1, 1, 1, 0, 0, 0, 1, 1, 0, 1, 1, 0, 1, 1, 0, 1, 0, 1, 1, 0, 1, 1, 0, 1, 1, 0, 0, 1, 1, 1, 1, 0, 1, 0, 0, 1, 0, 1, 1, 1, 0, 1, 0, 1, 1, 0, 0, 1, 1, 1, 1, 0, 0, 0, 1, 0, 0, 0, 0, 0, 1, 1, 0, 0, 1, 0, 1, 1, 0, 0, 0, 0, 0, 0, 1, 1, 0, 0, 0, 0, 0, 0, 0, 1, 0, 0, 0, 0, 1, 0, 1, 0, 0, 0, 1, 1, 0, 1, 0, 1, 1, 0, 1, 1, 1, 0, 1, 0, 1, 1, 1, 0, 1, 1, 1, 0, 1, 0, 1, 0, 0, 1, 0, 1, 0, 1, 0, 1, 1, 1, 0, 1, 1, 1, 1, 1, 0, 1, 1, 0, 0, 0, 0, 0, 0, 1, 1, 1, 1, 0, 0, 0, 1, 1, 1, 0, 1, 1, 1, 1, 0, 1, 0, 1, 1, 1, 0, 0, 0, 0, 0, 1, 0, 0, 1, 0, 1, 0, 0, 1, 1, 1, 0, 1, 1, 0, 1, 0, 1, 0, 1, 1, 0, 1, 0, 1, 0, 0, 1, 0, 1, 0, 0, 0, 0, 0, 1, 0, 1, 1, 1, 0, 0, 0, 1, 0, 1, 1, 0, 1, 0, 1, 1, 0, 1, 1, 0, 1, 0, 0, 0, 0, 0, 1, 0, 0, 0, 0, 1, 1, 0, 0, 1, 1, 0, 1, 1, 0, 0, 0, 1, 1, 0, 1, 0, 1, 0, 1, 1, 1, 1, 0, 0, 0, 1, 0, 0, 0, 1, 0, 0, 0, 0, 0, 1, 0, 1, 0, 1, 1, 1, 1, 0, 1, 0, 0, 1, 0, 1, 0, 1, 0, 0, 1, 1, 1, 0, 0, 1, 0, 1, 0, 0, 0, 0, 1, 0, 0, 0, 1, 0, 0, 0, 1, 1, 1, 1, 1, 0, 1, 1, 1, 0, 0, 0, 0, 1, 0, 1, 0, 1, 0, 1, 0, 0, 1, 0, 0, 0, 0, 1, 1, 1, 1, 1, 1, 1, 1, 1, 1, 1, 0, 0, 1, 0, 0, 0, 0, 1, 1, 0, 1, 0, 0, 1, 0, 0, 1, 1, 1, 1, 1, 0, 1, 1, 1, 0, 1, 1, 1, 0, 0, 1, 1, 0, 1, 1, 1, 0, 1, 1, 0, 1, 0, 0, 0, 0, 0, 1, 0, 1, 1, 0, 1, 0, 1, 1, 0, 1, 1, 1, 1, 0, 1, 1, 0, 1, 0, 0, 0, 1, 0, 0, 1, 1, 1, 1, 0, 1, 0, 0, 0, 0, 1, 1, 0, 1, 1, 0, 0, 0, 0, 1, 1, 0, 1, 0, 1, 0, 0, 1, 1, 0, 1, 1, 1, 0, 1, 0, 0, 1, 1, 0, 1, 1, 1, 1, 0, 0, 1, 0, 1, 0, 0, 1, 1, 1, 1, 0, 1, 0, 1, 1, 0, 1, 0, 1, 1, 0, 0, 0, 0, 1, 1, 0, 1, 1, 0, 0, 0, 0, 1, 0, 1, 1, 1, 0, 0, 1]\n",
      "\n",
      "Naive confusion matrix:\n",
      "[[ 43  53]\n",
      " [473 511]]\n",
      "\n",
      "Naive method ERR: 0.48703703703703705\n"
     ]
    }
   ],
   "source": [
    "# Question 3 - Use naive classifier WIP\n",
    "trueProbability= y_output[y_output['DispFrames'] > 18]['DispFrames'].count() / y_output['DispFrames'].size\n",
    "\n",
    "print(\"Naive method - Probability to be True:\")\n",
    "print(trueProbability)\n",
    "print(\"Naive method - Probability to be False:\")\n",
    "print(1 - trueProbability)\n",
    "\n",
    "y_naive = list(map(lambda record: np.random.choice([1, 0], p=[trueProbability, 1 - trueProbability]), y_test))\n",
    "\n",
    "print(\"\\nNaive method results:\")\n",
    "print(y_naive)\n",
    "\n",
    "naive_confusion = confusion_matrix(y_test, y_naive)\n",
    "print(\"\\nNaive confusion matrix:\")\n",
    "print(naive_confusion)\n",
    "\n",
    "print(\"\\nNaive method ERR:\", compute_err(naive_confusion))\n"
   ]
  },
  {
   "cell_type": "code",
   "execution_count": 64,
   "metadata": {},
   "outputs": [
    {
     "name": "stdout",
     "output_type": "stream",
     "text": [
      "Regressao transformada ERR: 0.0888888888888889\n"
     ]
    }
   ],
   "source": [
    "# Now we build a Linear Regression model and train it on the same data.\n",
    "regression_model = linear_model.LinearRegression()\n",
    "regression_model.fit(x_train, y_train_continuous['DispFrames'])\n",
    "\n",
    "# Predict some values.\n",
    "continuous_pred = regression_model.predict(x_test)\n",
    "normalized_pred = segment_classes(continuous_pred)\n",
    "\n",
    "calculated_err = compute_err(confusion_matrix(y_test, normalized_pred))\n",
    "print(\"Regressao transformada ERR:\", calculated_err)"
   ]
  },
  {
   "cell_type": "markdown",
   "metadata": {},
   "source": [
    "Diferente do modelo de regressao, esse modelo tenta classificar entre as classes. Pode ser visto que esse modelo tambem age de uma maneira moderada em face de oscilacoes na taxa de quadros, podendo ser visto pela matrix de confusao e os valores de falsos positivos.\n",
    "\n",
    "O modelo de classificacao criado utilizando o modelo de regressao mostrou um resultado semelhante ao modelo de classificacao criado originalmente. Ambos modelos possuiram o `ERR` com valor de `0.089`, mas esse resultado semelhante pode ter sido pelo fato de existir somente 2 classes, se existissem mais classes de SLA talvez esse valor nao seria tao semelhante e o modelo utilizando regressao alcancaria um resultado pior que a classificacao.\n",
    "\n",
    "No caso do método naive, seu erro foi muito maior, com valor de ~0.4963."
   ]
  },
  {
   "cell_type": "code",
   "execution_count": null,
   "metadata": {},
   "outputs": [],
   "source": []
  }
 ],
 "metadata": {
  "kernelspec": {
   "display_name": "Python 3",
   "language": "python",
   "name": "python3"
  },
  "language_info": {
   "codemirror_mode": {
    "name": "ipython",
    "version": 3
   },
   "file_extension": ".py",
   "mimetype": "text/x-python",
   "name": "python",
   "nbconvert_exporter": "python",
   "pygments_lexer": "ipython3",
   "version": "3.7.3"
  }
 },
 "nbformat": 4,
 "nbformat_minor": 4
}
