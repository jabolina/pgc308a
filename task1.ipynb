{
 "cells": [
  {
   "cell_type": "markdown",
   "metadata": {},
   "source": [
    "# Data Exploration\n",
    "\n",
    "Foram utilizadas as seguintes bibliotecas para realizar a primeira parte do trabalho:\n",
    "\n",
    "* Numpy\n",
    "* Pandas\n",
    "* Matplotlib\n",
    "\n",
    "## Primeira parte\n",
    "\n",
    "Foram carregados os arquivos `X.csv` e `Y.csv` e foram exibidos o inicio dos arquivos."
   ]
  },
  {
   "cell_type": "code",
   "execution_count": 1,
   "metadata": {
    "scrolled": false
   },
   "outputs": [
    {
     "data": {
      "text/html": [
       "<div>\n",
       "<style scoped>\n",
       "    .dataframe tbody tr th:only-of-type {\n",
       "        vertical-align: middle;\n",
       "    }\n",
       "\n",
       "    .dataframe tbody tr th {\n",
       "        vertical-align: top;\n",
       "    }\n",
       "\n",
       "    .dataframe thead th {\n",
       "        text-align: right;\n",
       "    }\n",
       "</style>\n",
       "<table border=\"1\" class=\"dataframe\">\n",
       "  <thead>\n",
       "    <tr style=\"text-align: right;\">\n",
       "      <th></th>\n",
       "      <th>TimeStamp</th>\n",
       "      <th>all_..idle</th>\n",
       "      <th>X..memused</th>\n",
       "      <th>proc.s</th>\n",
       "      <th>cswch.s</th>\n",
       "      <th>file.nr</th>\n",
       "      <th>sum_intr.s</th>\n",
       "      <th>ldavg.1</th>\n",
       "      <th>tcpsck</th>\n",
       "      <th>pgfree.s</th>\n",
       "    </tr>\n",
       "  </thead>\n",
       "  <tbody>\n",
       "    <tr>\n",
       "      <th>0</th>\n",
       "      <td>1409264779</td>\n",
       "      <td>0.0</td>\n",
       "      <td>73.03</td>\n",
       "      <td>47.0</td>\n",
       "      <td>62683.0</td>\n",
       "      <td>2496.0</td>\n",
       "      <td>15802.0</td>\n",
       "      <td>64.17</td>\n",
       "      <td>50.0</td>\n",
       "      <td>81151.0</td>\n",
       "    </tr>\n",
       "    <tr>\n",
       "      <th>1</th>\n",
       "      <td>1409264780</td>\n",
       "      <td>0.0</td>\n",
       "      <td>73.04</td>\n",
       "      <td>3.0</td>\n",
       "      <td>67595.0</td>\n",
       "      <td>2496.0</td>\n",
       "      <td>16139.0</td>\n",
       "      <td>64.17</td>\n",
       "      <td>50.0</td>\n",
       "      <td>78868.0</td>\n",
       "    </tr>\n",
       "    <tr>\n",
       "      <th>2</th>\n",
       "      <td>1409264781</td>\n",
       "      <td>0.0</td>\n",
       "      <td>73.05</td>\n",
       "      <td>0.0</td>\n",
       "      <td>69495.0</td>\n",
       "      <td>2496.0</td>\n",
       "      <td>15753.0</td>\n",
       "      <td>66.15</td>\n",
       "      <td>49.0</td>\n",
       "      <td>79990.0</td>\n",
       "    </tr>\n",
       "    <tr>\n",
       "      <th>3</th>\n",
       "      <td>1409264782</td>\n",
       "      <td>0.0</td>\n",
       "      <td>73.06</td>\n",
       "      <td>0.0</td>\n",
       "      <td>67977.0</td>\n",
       "      <td>2496.0</td>\n",
       "      <td>15849.0</td>\n",
       "      <td>66.15</td>\n",
       "      <td>48.0</td>\n",
       "      <td>78462.0</td>\n",
       "    </tr>\n",
       "    <tr>\n",
       "      <th>4</th>\n",
       "      <td>1409264783</td>\n",
       "      <td>0.0</td>\n",
       "      <td>73.06</td>\n",
       "      <td>0.0</td>\n",
       "      <td>69409.0</td>\n",
       "      <td>2496.0</td>\n",
       "      <td>15789.0</td>\n",
       "      <td>66.15</td>\n",
       "      <td>44.0</td>\n",
       "      <td>79337.0</td>\n",
       "    </tr>\n",
       "  </tbody>\n",
       "</table>\n",
       "</div>"
      ],
      "text/plain": [
       "    TimeStamp  all_..idle  X..memused  proc.s  cswch.s  file.nr  sum_intr.s  \\\n",
       "0  1409264779         0.0       73.03    47.0  62683.0   2496.0     15802.0   \n",
       "1  1409264780         0.0       73.04     3.0  67595.0   2496.0     16139.0   \n",
       "2  1409264781         0.0       73.05     0.0  69495.0   2496.0     15753.0   \n",
       "3  1409264782         0.0       73.06     0.0  67977.0   2496.0     15849.0   \n",
       "4  1409264783         0.0       73.06     0.0  69409.0   2496.0     15789.0   \n",
       "\n",
       "   ldavg.1  tcpsck  pgfree.s  \n",
       "0    64.17    50.0   81151.0  \n",
       "1    64.17    50.0   78868.0  \n",
       "2    66.15    49.0   79990.0  \n",
       "3    66.15    48.0   78462.0  \n",
       "4    66.15    44.0   79337.0  "
      ]
     },
     "execution_count": 1,
     "metadata": {},
     "output_type": "execute_result"
    }
   ],
   "source": [
    "import pandas as pd\n",
    "import matplotlib.pyplot as pp\n",
    "import seaborn as sns\n",
    "import json\n",
    "\n",
    "x_column_names = ['TimeStamp', \n",
    "                'all_..idle', \n",
    "                'X..memused',\n",
    "                'proc.s',\n",
    "                'cswch.s',\n",
    "                'file.nr',\n",
    "                'sum_intr.s',\n",
    "                'ldavg.1',\n",
    "                'tcpsck',\n",
    "                'pgfree.s']\n",
    "x_column_types = ['int64',\n",
    "                  'float64',\n",
    "                  'float64',\n",
    "                  'float64',\n",
    "                  'float64', \n",
    "                  'float64', \n",
    "                  'float64', \n",
    "                  'float64', \n",
    "                  'float64', \n",
    "                  'float64']\n",
    "x_data = pd.read_csv('./data/X.csv')\n",
    "x_data = x_data.astype(dict(zip(x_column_names, x_column_types)))\n",
    "x_data.head()"
   ]
  },
  {
   "cell_type": "code",
   "execution_count": 11,
   "metadata": {},
   "outputs": [
    {
     "data": {
      "text/html": [
       "<div>\n",
       "<style scoped>\n",
       "    .dataframe tbody tr th:only-of-type {\n",
       "        vertical-align: middle;\n",
       "    }\n",
       "\n",
       "    .dataframe tbody tr th {\n",
       "        vertical-align: top;\n",
       "    }\n",
       "\n",
       "    .dataframe thead th {\n",
       "        text-align: right;\n",
       "    }\n",
       "</style>\n",
       "<table border=\"1\" class=\"dataframe\">\n",
       "  <thead>\n",
       "    <tr style=\"text-align: right;\">\n",
       "      <th></th>\n",
       "      <th>TimeStamp</th>\n",
       "      <th>DispFrames</th>\n",
       "    </tr>\n",
       "  </thead>\n",
       "  <tbody>\n",
       "    <tr>\n",
       "      <th>0</th>\n",
       "      <td>1409264779</td>\n",
       "      <td>17.269999</td>\n",
       "    </tr>\n",
       "    <tr>\n",
       "      <th>1</th>\n",
       "      <td>1409264780</td>\n",
       "      <td>22.440000</td>\n",
       "    </tr>\n",
       "    <tr>\n",
       "      <th>2</th>\n",
       "      <td>1409264781</td>\n",
       "      <td>24.000000</td>\n",
       "    </tr>\n",
       "    <tr>\n",
       "      <th>3</th>\n",
       "      <td>1409264782</td>\n",
       "      <td>20.950001</td>\n",
       "    </tr>\n",
       "    <tr>\n",
       "      <th>4</th>\n",
       "      <td>1409264783</td>\n",
       "      <td>15.340001</td>\n",
       "    </tr>\n",
       "  </tbody>\n",
       "</table>\n",
       "</div>"
      ],
      "text/plain": [
       "    TimeStamp  DispFrames\n",
       "0  1409264779   17.269999\n",
       "1  1409264780   22.440000\n",
       "2  1409264781   24.000000\n",
       "3  1409264782   20.950001\n",
       "4  1409264783   15.340001"
      ]
     },
     "execution_count": 11,
     "metadata": {},
     "output_type": "execute_result"
    }
   ],
   "source": [
    "y_column_names = ['TimeStamp', 'DispFrames']\n",
    "y_column_types = ['int64', 'float64']\n",
    "\n",
    "y_output = pd.read_csv('./data/Y.csv')\n",
    "y_output = y_output.astype(dict(zip(y_column_names, y_column_types)))\n",
    "\n",
    "y_output.head()"
   ]
  },
  {
   "cell_type": "markdown",
   "metadata": {},
   "source": [
    "## Exercicios\n",
    "\n",
    "Para as celulas seguintes serao realizadas as atividades propostas.\n",
    "\n",
    "1. Compute the following statistics for each component of X and Y: mean, maximum, minimum, 25th percentile, 90th percentile, and standard deviation."
   ]
  },
  {
   "cell_type": "code",
   "execution_count": 15,
   "metadata": {},
   "outputs": [
    {
     "name": "stdout",
     "output_type": "stream",
     "text": [
      "X METRICS:\n",
      "{\n",
      "    \"TimeStamp\": {\n",
      "        \"mean\": 1409266578.5,\n",
      "        \"maximum\": 1409268378.0,\n",
      "        \"minimum\": 1409268378.0,\n",
      "        \"25th_percentile\": 1409265678.75,\n",
      "        \"90th_percentile\": 1409268018.1,\n",
      "        \"standard_deviation\": 1039.3748120865735\n",
      "    },\n",
      "    \"all_..idle\": {\n",
      "        \"mean\": 9.064980555555556,\n",
      "        \"maximum\": 69.54,\n",
      "        \"minimum\": 69.54,\n",
      "        \"25th_percentile\": 0.0,\n",
      "        \"90th_percentile\": 38.621,\n",
      "        \"standard_deviation\": 16.122822271521386\n",
      "    },\n",
      "    \"X..memused\": {\n",
      "        \"mean\": 89.13751666666667,\n",
      "        \"maximum\": 97.84,\n",
      "        \"minimum\": 97.84,\n",
      "        \"25th_percentile\": 82.965,\n",
      "        \"90th_percentile\": 96.77,\n",
      "        \"standard_deviation\": 8.183661998198009\n",
      "    },\n",
      "    \"proc.s\": {\n",
      "        \"mean\": 7.683302777777778,\n",
      "        \"maximum\": 48.0,\n",
      "        \"minimum\": 48.0,\n",
      "        \"25th_percentile\": 0.0,\n",
      "        \"90th_percentile\": 20.0,\n",
      "        \"standard_deviation\": 8.532605535161235\n",
      "    },\n",
      "    \"cswch.s\": {\n",
      "        \"mean\": 54045.87402222222,\n",
      "        \"maximum\": 83880.0,\n",
      "        \"minimum\": 83880.0,\n",
      "        \"25th_percentile\": 31302.0,\n",
      "        \"90th_percentile\": 72135.1,\n",
      "        \"standard_deviation\": 19497.81154016128\n",
      "    },\n",
      "    \"file.nr\": {\n",
      "        \"mean\": 2656.3333333333335,\n",
      "        \"maximum\": 2976.0,\n",
      "        \"minimum\": 2976.0,\n",
      "        \"25th_percentile\": 2496.0,\n",
      "        \"90th_percentile\": 2880.0,\n",
      "        \"standard_deviation\": 196.1107477828365\n",
      "    },\n",
      "    \"sum_intr.s\": {\n",
      "        \"mean\": 19978.04074722222,\n",
      "        \"maximum\": 35536.0,\n",
      "        \"minimum\": 35536.0,\n",
      "        \"25th_percentile\": 16678.0,\n",
      "        \"90th_percentile\": 28228.399999999998,\n",
      "        \"standard_deviation\": 4797.271325195323\n",
      "    },\n",
      "    \"ldavg.1\": {\n",
      "        \"mean\": 75.87577222222221,\n",
      "        \"maximum\": 147.47,\n",
      "        \"minimum\": 147.47,\n",
      "        \"25th_percentile\": 28.2,\n",
      "        \"90th_percentile\": 127.993,\n",
      "        \"standard_deviation\": 43.862444516579934\n",
      "    },\n",
      "    \"tcpsck\": {\n",
      "        \"mean\": 48.9975,\n",
      "        \"maximum\": 87.0,\n",
      "        \"minimum\": 87.0,\n",
      "        \"25th_percentile\": 34.0,\n",
      "        \"90th_percentile\": 71.0,\n",
      "        \"standard_deviation\": 15.871155449389754\n",
      "    },\n",
      "    \"pgfree.s\": {\n",
      "        \"mean\": 72872.15456944444,\n",
      "        \"maximum\": 145874.0,\n",
      "        \"minimum\": 145874.0,\n",
      "        \"25th_percentile\": 61601.75,\n",
      "        \"90th_percentile\": 97532.5,\n",
      "        \"standard_deviation\": 19504.32117533753\n",
      "    }\n",
      "}\n",
      "\n",
      "Y METRICS:\n",
      "{\n",
      "    \"TimeStamp\": {\n",
      "        \"mean\": 1409266578.5,\n",
      "        \"maximum\": 1409268378.0,\n",
      "        \"minimum\": 1409268378.0,\n",
      "        \"25th_percentile\": 1409265678.75,\n",
      "        \"90th_percentile\": 1409268018.1,\n",
      "        \"standard_deviation\": 1039.3748120865735\n",
      "    },\n",
      "    \"DispFrames\": {\n",
      "        \"mean\": 18.818394444386,\n",
      "        \"maximum\": 30.390000104899997,\n",
      "        \"minimum\": 30.390000104899997,\n",
      "        \"25th_percentile\": 13.3900001049,\n",
      "        \"90th_percentile\": 24.609999895100003,\n",
      "        \"standard_deviation\": 5.219756238205702\n",
      "    }\n",
      "}\n"
     ]
    }
   ],
   "source": [
    "x_metrics = dict()\n",
    "y_metrics = dict()\n",
    "\n",
    "def mean(data, column):\n",
    "    return float(data[column].mean())\n",
    "\n",
    "def maximum(data, column):\n",
    "    return float(data[column].max())\n",
    "\n",
    "def minimum(data, column):\n",
    "    return float(data[column].max())\n",
    "\n",
    "def percentile(data, column, percentile):\n",
    "    return float(data[column].quantile(percentile))\n",
    "\n",
    "def standard_deviation(data, column):\n",
    "    return float(data[column].std())\n",
    "\n",
    "for column in x_column_names:\n",
    "    column_metrics = dict()\n",
    "    \n",
    "    column_metrics['mean'] = mean(x_data, column)\n",
    "    column_metrics['maximum'] = maximum(x_data, column)\n",
    "    column_metrics['minimum'] = minimum(x_data, column)\n",
    "    column_metrics['25th_percentile'] = percentile(x_data, column, 0.25)\n",
    "    column_metrics['90th_percentile'] = percentile(x_data, column, 0.9)\n",
    "    column_metrics['standard_deviation'] = standard_deviation(x_data, column)\n",
    "    \n",
    "    x_metrics[column] = column_metrics\n",
    "    \n",
    "for column in y_column_names:\n",
    "    column_metrics = dict()\n",
    "    \n",
    "    column_metrics['mean'] = mean(y_output, column)\n",
    "    column_metrics['maximum'] = maximum(y_output, column)\n",
    "    column_metrics['minimum'] = minimum(y_output, column)\n",
    "    column_metrics['25th_percentile'] = percentile(y_output, column, 0.25)\n",
    "    column_metrics['90th_percentile'] = percentile(y_output, column, 0.9)\n",
    "    column_metrics['standard_deviation'] = standard_deviation(y_output, column)\n",
    "    \n",
    "    y_metrics[column] = column_metrics\n",
    "\n",
    "print(\"X METRICS:\")\n",
    "print(json.dumps(x_metrics, indent = 4))\n",
    "\n",
    "print(\"\\nY METRICS:\")\n",
    "print(json.dumps(y_metrics, indent = 4))"
   ]
  },
  {
   "cell_type": "markdown",
   "metadata": {},
   "source": [
    "2. Compute the following quantities:\n",
    "    a) the number of observations with memory usage larger than 80%;\n",
    "    b) the average number of used TCP sockets for observations with more than 18000 interrupts/sec;\n",
    "    c) the minimum memory utilization for observations with CPU idle time lower than 20%."
   ]
  },
  {
   "cell_type": "code",
   "execution_count": 27,
   "metadata": {},
   "outputs": [
    {
     "name": "stdout",
     "output_type": "stream",
     "text": [
      "Memory usage above 80% count: 0\n"
     ]
    }
   ],
   "source": [
    "# The number of observations with memory usage larger than 80%;\n",
    "# The column `all_..idle` holds information regarding idle CPU, so the 1 - x will be CPU usage metrics.\n",
    "\n",
    "memory_usage_count = x_data[(100 - x_data['X..memused']) > 0.8]['X..memused'].count()\n",
    "\n",
    "print('Memory usage above 80% count:', memory_usage_count)"
   ]
  },
  {
   "cell_type": "code",
   "execution_count": 25,
   "metadata": {},
   "outputs": [
    {
     "name": "stdout",
     "output_type": "stream",
     "text": [
      "Average of TCP sockets: 46.34730538922156\n"
     ]
    }
   ],
   "source": [
    "# The average number of used TCP sockets for observations with more than 18000 interrupts/sec;\n",
    "# First we filter the using the column `sum intr.s` and then do the average using the column `tcpsck`\n",
    "\n",
    "avg_tcp = x_data[x_data['sum_intr.s'] > 18000]['tcpsck'].mean()\n",
    "print('Average of TCP sockets:', avg_tcp)"
   ]
  },
  {
   "cell_type": "code",
   "execution_count": 23,
   "metadata": {},
   "outputs": [
    {
     "name": "stdout",
     "output_type": "stream",
     "text": [
      "Minimum memory utilization: 73.03\n"
     ]
    }
   ],
   "source": [
    "# The minimum memory utilization for observations with CPU idle time lower than 20%.\n",
    "# First we filter with the column `all_..idle` and select the minimum from the column `X..memused`.\n",
    "\n",
    "minimum_mem = x_data[x_data['all_..idle'] < 0.2]['X..memused'].min()\n",
    "print('Minimum memory utilization:', minimum_mem)"
   ]
  },
  {
   "cell_type": "markdown",
   "metadata": {},
   "source": [
    "3. Produce the following plots:\n",
    "    a) Time series of percentage of idle CPU and of used memory (both in a single plot);\n",
    "    b) Density plots, histograms, and box plots of idle CPU and of used memory."
   ]
  },
  {
   "cell_type": "code",
   "execution_count": 7,
   "metadata": {
    "scrolled": true
   },
   "outputs": [
    {
     "data": {
      "image/png": "[encoded data removed]",
      "text/plain": [
       "<Figure size 1296x360 with 1 Axes>"
      ]
     },
     "metadata": {
      "needs_background": "light"
     },
     "output_type": "display_data"
    }
   ],
   "source": [
    "pp.figure(figsize = (18, 5))\n",
    "\n",
    "timestamps = x_data['TimeStamp']\n",
    "\n",
    "pp.plot(timestamps, x_data['all_..idle'], 'r')\n",
    "pp.plot(timestamps, x_data['X..memused'], 'b')\n",
    "pp.legend(['CPU', 'Memoria'])\n",
    "pp.show()"
   ]
  },
  {
   "cell_type": "code",
   "execution_count": 8,
   "metadata": {},
   "outputs": [
    {
     "data": {
      "text/plain": [
       "<AxesSubplot:ylabel='Density'>"
      ]
     },
     "execution_count": 8,
     "metadata": {},
     "output_type": "execute_result"
    },
    {
     "data": {
      "image/png": "[encoded data removed]",
      "text/plain": [
       "<Figure size 432x288 with 1 Axes>"
      ]
     },
     "metadata": {
      "needs_background": "light"
     },
     "output_type": "display_data"
    }
   ],
   "source": [
    "# Density plots CPU and memory.\n",
    "x_data['all_..idle'].plot(kind='density', legend=True)\n",
    "x_data['X..memused'].plot(kind='density', legend=True)"
   ]
  },
  {
   "cell_type": "code",
   "execution_count": 9,
   "metadata": {},
   "outputs": [
    {
     "data": {
      "text/plain": [
       "<AxesSubplot:ylabel='Frequency'>"
      ]
     },
     "execution_count": 9,
     "metadata": {},
     "output_type": "execute_result"
    },
    {
     "data": {
      "image/png": "[encoded data removed]",
      "text/plain": [
       "<Figure size 432x288 with 1 Axes>"
      ]
     },
     "metadata": {
      "needs_background": "light"
     },
     "output_type": "display_data"
    }
   ],
   "source": [
    "# Histogram for CPU and memory.\n",
    "x_data['all_..idle'].plot(kind='hist', legend=True)\n",
    "x_data['X..memused'].plot(kind='hist', legend=True)"
   ]
  },
  {
   "cell_type": "code",
   "execution_count": 10,
   "metadata": {},
   "outputs": [
    {
     "data": {
      "text/plain": [
       "<Figure size 1296x360 with 0 Axes>"
      ]
     },
     "metadata": {},
     "output_type": "display_data"
    },
    {
     "data": {
      "image/png": "[encoded data removed]",
      "text/plain": [
       "<Figure size 432x288 with 2 Axes>"
      ]
     },
     "metadata": {
      "needs_background": "light"
     },
     "output_type": "display_data"
    }
   ],
   "source": [
    "# Boxplot for CPU and memory.\n",
    "pp.figure(figsize = (18, 5))\n",
    "fig, axes = pp.subplots(1, 2)\n",
    "x_data['all_..idle'].plot(kind='box', by='type', ax=axes.flatten()[0])\n",
    "x_data['X..memused'].plot(kind='box', by='type', ax=axes.flatten()[1])\n",
    "pp.tight_layout()\n",
    "pp.show()"
   ]
  },
  {
   "cell_type": "code",
   "execution_count": null,
   "metadata": {},
   "outputs": [],
   "source": [
    "ffffffffffffffffffffffffififififififififififififififififififififififixfixfixfixfixfixfixfixfixfixfixfixfixfixfixfixfi-xfi-xfi-xfi-xfi-xfi-xfi-xfi-xfi-xfi-xfi-xfi-xfi-xfi-xfi-xfi-xfi-xfi-xfi-xfi-xfi-xfi-xfi-xfi-xfi-xfi-xfi-xfi-xfi-xfi-xfi-xfi-xfi-xfi-xfi-xfi-xfi-xfi-xfi-xfi-xfi-xfi-xfi-xfi-xfi-xfi-xfi-xfi-xfi-xfi-xfi-xfi-xfi-xfi-xfi-xfi-xfi-xfi-xfi-xfi-xfi-xfi-xfi-xfi-xfi-xfi-xfi-xfi-xfi-xfi-xfi-xfi-xfi-xfi-xfi-xfi-xfi-xfi-xfi-xfi-xfi-xfi-xfi-xfi-xfi-xfi-xfi-xfi-xfi-xfi-xfi-xfi-xfi-xfi-xfi-xfi-xfi-xfi-xfi-xfi-xfi-xfi-xfi-xfi-xfi-xfi-xfi-xfi-xfi-xfi-xfi-xfi-xfi-xfi-xfi-xfi-xfi-xfi-xfi-xfi-xfi-xfi-xfi-xfi-xfi-xfi-xfi-xfi-xfi-xfi-xfi-xfi-xfi-xfi-xfi-xfi-xfi-xfi-xfi-xfi-xfi-xfi-xfi-xfi-xfi-xfi-xfi-xfi-xfi-xfi-xfi-xfi-xfi-xfi-xfi-xfi-xfi-xfi-xfi-xfi-xfi-xfi-xfi-xfi-xfi-xfi-xfi-xfi-xfi-xfi-xfi-xfi-xfi-xfi-xfi-xfi-xfi-xfi-xfi-xfi-xfi-xfi-xfi-xfi-xfi-xfi-xfi-xfi-xfi-xfi-xfi-xfi-xfi-xfi-xfi-xfi-xfi-xfi-xfi-xfi-xfi-xfi-xfi-xfi-xfi-xfi-xfi-xfi-xfi-xfi-xfi-xfi-xfi-xfi-xfi-xfi-xfi-xfi-xfi-xfi-xfi-xfi-xfi-xfi-xfi-xfi-xfi-xfi-xfi-xfi-xfi-xfi-xfi-xfi-xfi-xfi-xfi-xfi-xfi-xfi-xfi-xfi-xfi-xfi-xfi-xfi-xfi-xfi-xfi-xfi-xfi-xfi-xfi-xfi-xfi-xfi-xfi-xfi-xfi-xfi-xfi-xfi-xfi-xfi-xfi-xfi-xfi-xfi-xfi-xfi-xfi-xfi-xfi-xfi-xfi-xfi-xfi-xfi-xfi-xfi-xfi-xfi-xfi-xfi-xfi-xfi-xfi-xfi-xfi-xfi-xfi-xfi-xfi-xfi-xfi-xfi-xfi-xfi-xfi-xfi-xfi-xfi-xfi-xfi-xfi-xfi-xfi-xfi-xfi-xfi-xfi-xfi-xfi-xfi-xfi-xfi-xfi-xfi-xfi-xfi-xfi-xfi-xfi-xfi-xfi-xfi-xfi-xfi-xfi-xfi-xfi-xfi-xfi-xfi-xfi-xfi-xfi-xfi-xfi-xfi-xfi-xfi-xfi-xfi-xfi-xfi-xfi-xfi-xfi-xfi-xfi-xfi-xfi-xfi-xfi-xfi-xfi-xfi-xfi-xfi-xfi-xfi-xfi-xfi-xfi-xfi-xfi-xfi-xfi-xfi-xfi-xfi-xfi-xfi-xfi-xfi-xfi-xfi-xfi-xfi-xfi-xfi-xfi-xfi-xfi-xfi-xfi-xfi-xfi-xfi-xfi-xfi-xfi-xfi-xfi-xfi-xfi-xfi-xfi-xfi-xfi-xfi-xfi-xfi-xfi-xfi-xfi-xfi-xfi-xfi-xfi-xfi-xfi-xfi-xfi-xfi-xfi-xfi-xfi-xfi-xfi-xfi-xfi-xfi-xfi-xfi-xfi-xfi-xfi-xfi-xfi-xfi-xfi-xfi-xfi-xfi-xfi-xfi-xfi-xfi-xfi-xfi-xfi-xfi-xfi-xfi-xfi-xfi-xfi-xfi-xfi-xfi-xfi-xfi-xfi-xfi-xfi"
   ]
  }
 ],
 "metadata": {
  "kernelspec": {
   "display_name": "Python 3",
   "language": "python",
   "name": "python3"
  },
  "language_info": {
   "codemirror_mode": {
    "name": "ipython",
    "version": 3
   },
   "file_extension": ".py",
   "mimetype": "text/x-python",
   "name": "python",
   "nbconvert_exporter": "python",
   "pygments_lexer": "ipython3",
   "version": "3.7.3"
  }
 },
 "nbformat": 4,
 "nbformat_minor": 4
}
