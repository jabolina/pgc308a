{
 "cells": [
  {
   "cell_type": "markdown",
   "metadata": {},
   "source": [
    "# Parte 4\n",
    "\n",
    "O objetivo dessa parte seria focado na reducao de parametros para a criacao de um modelo adequado, identificando\n",
    "quais metricas mais se correlacionam ao numero de quadros na saida."
   ]
  },
  {
   "cell_type": "markdown",
   "metadata": {},
   "source": [
    "1. Construct a training set and a test set from the trace as above.\n",
    "\n",
    "2. Method 1: Build all subsets of the feature set X that contain either one or two features (i.e., device statistics). Compute the models for each of these sets for linear regression over the training set. Plot a histogram of the error values (NMAE) of all the models for the test set. Identify the feature set that produces the model with the smallest error and give the device statistic(s) in this set.\n",
    "\n",
    "3. Method 2: Linear univariate feature selection. Take each feature of $X$ and compute the sample correlation of the feature with the corresponding $Y$ value over the training set. For observations $x_i, y_i$, the sample correlation is computed as $\\frac{1}{m}\\sum_{i=1}^m\\frac{(x_i - \\bar{x})(y_i - \\bar{y}}{(\\sigma_X * \\sigma_Y)}$ whereby $\\bar{x}$ and $\\bar{y}$ are sample means and $m$ is the size of the training set; $\\sigma_X$ is the standard deviation $\\sqrt{(\\frac{1}{m}\\sum_{i=1}^m(x_i - \\bar{x})^2)}$ and likewise for $\\sigma_Y$. The correlation values fall into the interval [−1, +1]. Rank the features according to the square of the correlation values; the top feature has the highest value. Build nine feature sets composed of the top $k$ features, $k = 1..9$. Compute the model for each of these nine sets for linear regression over the training set and compute the error (NMAE) of these models over the test set. Produce a plot that shows the error value in function of the set $k$.\n",
    "\n",
    "4. Describe your observations and conclusions."
   ]
  },
  {
   "cell_type": "code",
   "execution_count": 110,
   "metadata": {},
   "outputs": [
    {
     "name": "stdout",
     "output_type": "stream",
     "text": [
      "Criado 1023 sub-sets de dados\n"
     ]
    }
   ],
   "source": [
    "from itertools import chain, combinations\n",
    "import pandas as pd\n",
    "import matplotlib.pyplot as pp\n",
    "\n",
    "class Subset:\n",
    "    def __init__(self, x_df, y_df, size, columns):\n",
    "        self.columns = columns\n",
    "        self.data = x_df[columns]\n",
    "        x_train, x_test, y_train, y_test = \\\n",
    "            self.data[:size], self.data[size:], y_df[:size], y_df[size:]\n",
    "        self.x_train = x_train\n",
    "        self.x_test = x_test\n",
    "        self.y_train = y_train\n",
    "        self.y_test = y_test\n",
    "        \n",
    "    def data_width(self):\n",
    "        return len(self.columns)\n",
    "\n",
    "def superset(values):\n",
    "    return map(lambda t: list(t), chain.from_iterable(combinations(values, r) for r in range(len(values) + 1)))\n",
    "    \n",
    "def create_subsets(x, y):\n",
    "    subset_columns = list(filter(lambda t: len(t) > 0, superset(x.columns)))\n",
    "    return [Subset(x, y, 2520, columns) for columns in list(subset_columns)]\n",
    "\n",
    "\n",
    "x_data = pd.read_csv('./data/X.csv')\n",
    "y_output = pd.read_csv('./data/Y.csv')\n",
    "\n",
    "subsets = create_subsets(x_data, y_output)\n",
    "print(f\"Criado {len(subsets)} sub-sets de dados\")"
   ]
  },
  {
   "cell_type": "code",
   "execution_count": 111,
   "metadata": {},
   "outputs": [
    {
     "name": "stdout",
     "output_type": "stream",
     "text": [
      "O modelo com as features ['sum_intr.s', 'tcpsck'] possui NMAE: 0.07798705254028886\n"
     ]
    },
    {
     "data": {
      "text/plain": [
       "<AxesSubplot:ylabel='Frequency'>"
      ]
     },
     "execution_count": 111,
     "metadata": {},
     "output_type": "execute_result"
    },
    {
     "data": {
      "image/png": "[encoded data removed]",
      "text/plain": [
       "<Figure size 432x288 with 1 Axes>"
      ]
     },
     "metadata": {
      "needs_background": "light"
     },
     "output_type": "display_data"
    }
   ],
   "source": [
    "from sklearn import linear_model\n",
    "\n",
    "def absolute_errors(expected, found):\n",
    "    return [abs(y1 - y2) for (y1, y2) in zip(expected, found)]\n",
    "\n",
    "def mean_errors(expected, found):\n",
    "    return sum(absolute_errors(expected, found)) / len(expected)\n",
    "\n",
    "def normalized_mean_absolute_error(expected, found):\n",
    "    return mean_errors(expected, found) / expected.mean()\n",
    "\n",
    "class TrainedModel:\n",
    "    def __init__(self, data):\n",
    "        self.data = data\n",
    "        self.model = linear_model.LinearRegression()\n",
    "        self.predicted = []\n",
    "        \n",
    "    def train(self):\n",
    "        self.model.fit(self.data.x_train, self.data.y_train['DispFrames'])\n",
    "        \n",
    "    def predict(self):\n",
    "        self.predicted = self.model.predict(self.data.x_test)\n",
    "        \n",
    "    def calculate_nmae(self):\n",
    "        return normalized_mean_absolute_error(self.data.y_test['DispFrames'], self.predicted)\n",
    "    \n",
    "filtered_subsets = list(filter(lambda subset: subset.data_width() <= 2, subsets))\n",
    "\n",
    "def create_and_train_model(data):\n",
    "    model = TrainedModel(data)\n",
    "    model.train()\n",
    "    model.predict()\n",
    "    return model, model.calculate_nmae()\n",
    "\n",
    "models = [create_and_train_model(subset) for subset in filtered_subsets]\n",
    "\n",
    "minimum_model = min(models, key = lambda t: t[1])\n",
    "\n",
    "print(f\"O modelo com as features {minimum_model[0].data.columns} possui NMAE: {minimum_model[1]}\")\n",
    "\n",
    "gathered_data = [[nmae] for (_, nmae) in models]\n",
    "pd.DataFrame(gathered_data, columns=['NMAE']).plot(kind='hist', legend=True)"
   ]
  },
  {
   "cell_type": "code",
   "execution_count": 112,
   "metadata": {},
   "outputs": [
    {
     "name": "stdout",
     "output_type": "stream",
     "text": [
      "[('ldavg.1', 0.6605156933263323), ('file.nr', 0.5431396904578119), ('tcpsck', 0.5414481371192515), ('cswch.s', 0.46536594437966994), ('TimeStamp', 0.23320617730219892), ('X..memused', 0.18179581598782335), ('all_..idle', 0.1559551275906424), ('sum_intr.s', 0.08398481584153435), ('proc.s', 0.02632612296338617)]\n",
      "\n",
      "Feature name: ldavg.1\n",
      "\n",
      "Score: 0.6605156933263323\n",
      "NMAE error: 0.12273037543079203\n",
      "\n",
      "Feature name: file.nr\n",
      "\n",
      "Score: 0.5431396904578119\n",
      "NMAE error: 0.10630719327916613\n",
      "\n",
      "Feature name: tcpsck\n",
      "\n",
      "Score: 0.5414481371192515\n",
      "NMAE error: 0.08940690660169943\n",
      "\n",
      "Feature name: cswch.s\n",
      "\n",
      "Score: 0.46536594437966994\n",
      "NMAE error: 0.17993333009828547\n",
      "\n",
      "Feature name: TimeStamp\n",
      "\n",
      "Score: 0.23320617730219892\n",
      "NMAE error: 0.11388149027109429\n",
      "\n",
      "Feature name: X..memused\n",
      "\n",
      "Score: 0.18179581598782335\n",
      "NMAE error: 0.18376875247916757\n",
      "\n",
      "Feature name: all_..idle\n",
      "\n",
      "Score: 0.1559551275906424\n",
      "NMAE error: 0.19474520596136627\n",
      "\n",
      "Feature name: sum_intr.s\n",
      "\n",
      "Score: 0.08398481584153435\n",
      "NMAE error: 0.17499600939990528\n",
      "\n",
      "Feature name: proc.s\n",
      "\n",
      "Score: 0.02632612296338617\n",
      "NMAE error: 0.271124978281195\n"
     ]
    },
    {
     "data": {
      "text/plain": [
       "<AxesSubplot:xlabel='Feature'>"
      ]
     },
     "execution_count": 112,
     "metadata": {},
     "output_type": "execute_result"
    },
    {
     "data": {
      "image/png": "[encoded data removed]",
      "text/plain": [
       "<Figure size 432x288 with 1 Axes>"
      ]
     },
     "metadata": {
      "needs_background": "light"
     },
     "output_type": "display_data"
    }
   ],
   "source": [
    "import numpy as np\n",
    "\n",
    "def get_sample_correlation(x_data, y_data):\n",
    "    x_mean = x_data.mean()\n",
    "    y_mean = y_data.mean()\n",
    "    x_std = np.std(x_data)\n",
    "    y_std = np.std(y_data)\n",
    "\n",
    "    correlation = sum([((x_data[idx] - x_mean) * (y_data[idx] - y_mean)) / (x_std * y_std) for idx, _ in enumerate(x_data)]) / x_data.size\n",
    "    return correlation**2\n",
    "\n",
    "up_to = 2520\n",
    "x_train, x_test, y_train, y_test = \\\n",
    "    x_data[:up_to], x_data[up_to:], y_output[:up_to], y_output[up_to:]\n",
    "\n",
    "x_column_names = ['TimeStamp', \n",
    "                'all_..idle', \n",
    "                'X..memused',\n",
    "                'proc.s',\n",
    "                'cswch.s',\n",
    "                'file.nr',\n",
    "                'sum_intr.s',\n",
    "                'ldavg.1',\n",
    "                'tcpsck',\n",
    "                'pgfree.s']\n",
    "\n",
    "results = []\n",
    "for name in x_column_names:\n",
    "    results.append(tuple((name, get_sample_correlation(x_train[name].to_numpy(), y_train['DispFrames'].to_numpy()))))\n",
    "\n",
    "topNine = sorted(results, key=lambda tup: tup[1], reverse=True)[:9]\n",
    "print(topNine)\n",
    "\n",
    "nmaeList = []\n",
    "for featureName, score in topNine:\n",
    "    model = linear_model.LinearRegression()\n",
    "    model.fit(x_train[[featureName]], y_train['DispFrames'])\n",
    "    y_pred = model.predict(x_test[[featureName]])\n",
    "    nmae = normalized_mean_absolute_error(y_test['DispFrames'], y_pred)\n",
    "    nmaeList.append(tuple((featureName, nmae)))\n",
    "    print(\"\\nFeature name:\", featureName)\n",
    "    print(\"\\nScore:\", score)\n",
    "    print(\"NMAE error:\", nmae)\n",
    "    \n",
    "topNineNmae = sorted(nmaeList, key=lambda tup: tup[1], reverse=False)\n",
    "pd.DataFrame(topNineNmae, columns =['Feature', 'NMAE']).plot(kind='bar', legend=True, x = 'Feature')"
   ]
  }
 ],
 "metadata": {
  "kernelspec": {
   "display_name": "Python 3",
   "language": "python",
   "name": "python3"
  },
  "language_info": {
   "codemirror_mode": {
    "name": "ipython",
    "version": 3
   },
   "file_extension": ".py",
   "mimetype": "text/x-python",
   "name": "python",
   "nbconvert_exporter": "python",
   "pygments_lexer": "ipython3",
   "version": "3.7.3"
  }
 },
 "nbformat": 4,
 "nbformat_minor": 4
}
